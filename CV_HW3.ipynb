{
  "nbformat": 4,
  "nbformat_minor": 0,
  "metadata": {
    "colab": {
      "name": "CV_HW3.ipynb",
      "provenance": [],
      "authorship_tag": "ABX9TyMPN/DUSCAwKT4D5F/52zo1",
      "include_colab_link": true
    },
    "kernelspec": {
      "name": "python3",
      "display_name": "Python 3"
    }
  },
  "cells": [
    {
      "cell_type": "markdown",
      "metadata": {
        "id": "view-in-github",
        "colab_type": "text"
      },
      "source": [
        "<a href=\"https://colab.research.google.com/github/visheshagrawal/Course-Computer-Vision/blob/main/CV_HW3.ipynb\" target=\"_parent\"><img src=\"https://colab.research.google.com/assets/colab-badge.svg\" alt=\"Open In Colab\"/></a>"
      ]
    },
    {
      "cell_type": "markdown",
      "metadata": {
        "id": "22BfkE3525kA"
      },
      "source": [
        "**Saliency Map**"
      ]
    },
    {
      "cell_type": "code",
      "metadata": {
        "id": "-9xtptjE20Z4"
      },
      "source": [
        "import cv2\n",
        "import numpy as np"
      ],
      "execution_count": null,
      "outputs": []
    },
    {
      "cell_type": "code",
      "metadata": {
        "id": "r8wY_ZIx8djb"
      },
      "source": [
        "img = cv2.imread(\"cv_hw3.jpg\")\n",
        "gray = cv2.cvtColor(img, cv2.COLOR_BGR2GRAY)\n",
        "# flatten_gray=gray.flatten()"
      ],
      "execution_count": null,
      "outputs": []
    },
    {
      "cell_type": "code",
      "metadata": {
        "colab": {
          "base_uri": "https://localhost:8080/"
        },
        "id": "gIUt18atUGW-",
        "outputId": "68db24be-e8ae-4b7e-bc0a-4b533b57291a"
      },
      "source": [
        "img.shape[0]"
      ],
      "execution_count": null,
      "outputs": [
        {
          "output_type": "execute_result",
          "data": {
            "text/plain": [
              "64"
            ]
          },
          "metadata": {
            "tags": []
          },
          "execution_count": 25
        }
      ]
    },
    {
      "cell_type": "code",
      "metadata": {
        "id": "skOhJ3Qg81Yl"
      },
      "source": [
        "height=img.shape[0]\n",
        "width=img.shape[1]"
      ],
      "execution_count": null,
      "outputs": []
    },
    {
      "cell_type": "code",
      "metadata": {
        "id": "4I8Mdzi-9FrE"
      },
      "source": [
        "saliency_map=np.zeros((height,width))\n",
        "for i in range(height):\n",
        "  for j in range(width):\n",
        "    combined_sal=0\n",
        "    for k in range(height):\n",
        "      for l in range(width):\n",
        "        b_norm = np.square(img[i][j][0]-img[k][l][0])\n",
        "        g_norm = np.square(img[i][j][0]-img[k][l][0])\n",
        "        r_norm = np.square(img[i][j][0]-img[k][l][0])\n",
        "        combined_norm = np.sqrt(b_norm+g_norm+r_norm)\n",
        "        # print(combined_norm)\n",
        "        point1,point2= np.array([i,j]), np.array([k,l])\n",
        "        dist= np.linalg.norm(point1 -point2)\n",
        "        eucl_fac= np.exp(-dist)\n",
        "        combined_sal += combined_norm*eucl_fac\n",
        "        # combined_sal += combined_norm\n",
        "    saliency_map[i][j]=combined_sal\n",
        "    print(i,j,combined_sal)"
      ],
      "execution_count": null,
      "outputs": []
    },
    {
      "cell_type": "code",
      "metadata": {
        "id": "yhHoDlTeipZ2"
      },
      "source": [
        "max=float(\"-inf\")\n",
        "min=float(\"inf\")\n",
        "for i in range(height):\n",
        "  for j in range(width):\n",
        "    if saliency_map[i][j]>max:\n",
        "      max=saliency_map[i][j]\n",
        "    if saliency_map[i][j]<min:\n",
        "      min=saliency_map[i][j]"
      ],
      "execution_count": null,
      "outputs": []
    },
    {
      "cell_type": "code",
      "metadata": {
        "id": "7hARclTcjRcY"
      },
      "source": [
        "import pickle\n",
        "with open('test.pkl','wb') as f:\n",
        "  pickle.dump(saliency_map, f)"
      ],
      "execution_count": null,
      "outputs": []
    },
    {
      "cell_type": "code",
      "metadata": {
        "id": "A1dsz5Dhi9u1"
      },
      "source": [
        "import copy\n",
        "new_sal_map=copy.deepcopy(saliency_map)\n",
        "for i in range(height):\n",
        "  for j in range(width):\n",
        "    new_sal_map[i][j]=(max-saliency_map[i][j])/(max)\n",
        "    new_sal_map[i][j]=new_sal_map[i][j]*255\n"
      ],
      "execution_count": null,
      "outputs": []
    },
    {
      "cell_type": "code",
      "metadata": {
        "id": "_mZUmozjtRUM"
      },
      "source": [
        "import copy\n",
        "new_sal_map=copy.deepcopy(saliency_map)\n",
        "for i in range(height):\n",
        "  for j in range(width):\n",
        "    new_sal_map[i][j]=np.log(1+new_sal_map[i][j]*100)\n"
      ],
      "execution_count": null,
      "outputs": []
    },
    {
      "cell_type": "code",
      "metadata": {
        "id": "0vgEAxyMoOhD"
      },
      "source": [
        "import copy\n",
        "new_sal_map=copy.deepcopy(saliency_map)\n",
        "for i in range(height):\n",
        "  for j in range(width):\n",
        "    if (saliency_map[i][j]>50):\n",
        "      new_sal_map[i][j]=255\n",
        "    if (saliency_map[i][j]<=50):\n",
        "      new_sal_map[i][j]=0"
      ],
      "execution_count": null,
      "outputs": []
    },
    {
      "cell_type": "code",
      "metadata": {
        "colab": {
          "base_uri": "https://localhost:8080/",
          "height": 81
        },
        "id": "KoQVA1LbXAuB",
        "outputId": "aa5fb57f-5d72-406a-e64b-c507a78a0cff"
      },
      "source": [
        "from google.colab.patches import cv2_imshow\n",
        "cv2_imshow(saliency_map)"
      ],
      "execution_count": null,
      "outputs": [
        {
          "output_type": "display_data",
          "data": {
            "image/png": "[encoded data removed]",
            "text/plain": [
              "<PIL.Image.Image image mode=L size=64x64 at 0x7F7D5423B1D0>"
            ]
          },
          "metadata": {
            "tags": []
          }
        }
      ]
    },
    {
      "cell_type": "code",
      "metadata": {
        "colab": {
          "base_uri": "https://localhost:8080/",
          "height": 299
        },
        "id": "v-fEEzMCkeY6",
        "outputId": "c4478eb2-4e2e-47da-9046-6ba3b62b7115"
      },
      "source": [
        "from google.colab.patches import cv2_imshow\n",
        "cv2_imshow(new_sal_map)\n",
        "new_sal_map"
      ],
      "execution_count": null,
      "outputs": [
        {
          "output_type": "display_data",
          "data": {
            "image/png": "[encoded data removed]",
            "text/plain": [
              "<PIL.Image.Image image mode=L size=64x64 at 0x7F7D542A72B0>"
            ]
          },
          "metadata": {
            "tags": []
          }
        },
        {
          "output_type": "execute_result",
          "data": {
            "text/plain": [
              "array([[7.5569877 , 7.43058585, 7.2476333 , ..., 7.52943119, 7.07429674,\n",
              "        6.56674008],\n",
              "       [7.19907548, 7.42210677, 7.60522648, ..., 7.36268655, 7.03421392,\n",
              "        6.94631487],\n",
              "       [7.04423284, 7.35276057, 7.63921986, ..., 7.30312508, 6.83676977,\n",
              "        6.33847153],\n",
              "       ...,\n",
              "       [7.85219332, 8.05436429, 7.92354285, ..., 8.26286312, 8.28383194,\n",
              "        7.93138301],\n",
              "       [7.63334534, 7.95503398, 8.052618  , ..., 8.19943142, 8.09224155,\n",
              "        7.92064257],\n",
              "       [7.4696862 , 7.44344212, 7.85705358, ..., 7.70089758, 7.71715453,\n",
              "        7.54382336]])"
            ]
          },
          "metadata": {
            "tags": []
          },
          "execution_count": 88
        }
      ]
    },
    {
      "cell_type": "code",
      "metadata": {
        "id": "YLBSsWTLhh-s"
      },
      "source": [
        "saliency = cv2.saliency.StaticSaliencyFineGrained_create()\n",
        "(success, saliencyMap) = saliency.computeSaliency(img)\n",
        "# if we would like a *binary* map that we could process for contours,\n",
        "# compute convex hull's, extract bounding boxes, etc., we can\n",
        "# additionally threshold the saliency map\n",
        "threshMap = cv2.threshold(saliencyMap.astype(\"uint8\"), 0, 255,cv2.THRESH_BINARY | cv2.THRESH_OTSU)[1]"
      ],
      "execution_count": null,
      "outputs": []
    },
    {
      "cell_type": "code",
      "metadata": {
        "id": "og1Mpqy1iNWa"
      },
      "source": [
        "saliency = cv2.saliency.StaticSaliencySpectralResidual_create()\n",
        "(success, saliencyMap) = saliency.computeSaliency(img)\n",
        "saliencyMap = (saliencyMap * 255).astype(\"uint8\")"
      ],
      "execution_count": null,
      "outputs": []
    },
    {
      "cell_type": "code",
      "metadata": {
        "colab": {
          "base_uri": "https://localhost:8080/",
          "height": 81
        },
        "id": "gj2Zw2OkhtLv",
        "outputId": "654e0d5f-e182-49c1-9437-921ed02877f0"
      },
      "source": [
        "from google.colab.patches import cv2_imshow\n",
        "cv2_imshow(saliencyMap)"
      ],
      "execution_count": null,
      "outputs": [
        {
          "output_type": "display_data",
          "data": {
            "image/png": "[encoded data removed]",
            "text/plain": [
              "<PIL.Image.Image image mode=L size=64x64 at 0x7F7D5426D860>"
            ]
          },
          "metadata": {
            "tags": []
          }
        }
      ]
    }
  ]
}